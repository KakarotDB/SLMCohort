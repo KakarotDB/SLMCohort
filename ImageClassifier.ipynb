{
  "nbformat": 4,
  "nbformat_minor": 0,
  "metadata": {
    "colab": {
      "provenance": [],
      "gpuType": "T4",
      "authorship_tag": "ABX9TyNMhOEOVrxyqgZZRpF8A+T9",
      "include_colab_link": true
    },
    "kernelspec": {
      "name": "python3",
      "display_name": "Python 3"
    },
    "language_info": {
      "name": "python"
    },
    "accelerator": "GPU"
  },
  "cells": [
    {
      "cell_type": "markdown",
      "metadata": {
        "id": "view-in-github",
        "colab_type": "text"
      },
      "source": [
        "<a href=\"https://colab.research.google.com/github/KakarotDB/SLMCohort/blob/main/ImageClassifier.ipynb\" target=\"_parent\"><img src=\"https://colab.research.google.com/assets/colab-badge.svg\" alt=\"Open In Colab\"/></a>"
      ]
    },
    {
      "cell_type": "code",
      "execution_count": 16,
      "metadata": {
        "id": "KREtGteN1yPH",
        "colab": {
          "base_uri": "https://localhost:8080/"
        },
        "outputId": "0804bdc4-9b6e-4835-95f8-015cb6447b06"
      },
      "outputs": [
        {
          "output_type": "stream",
          "name": "stdout",
          "text": [
            "Train Epoch: 1 [0/60000 (0%)]\tLoss: 2.322520\n",
            "Train Epoch: 1 [6400/60000 (11%)]\tLoss: 0.133983\n",
            "Train Epoch: 1 [12800/60000 (21%)]\tLoss: 0.193611\n",
            "Train Epoch: 1 [19200/60000 (32%)]\tLoss: 0.205039\n",
            "Train Epoch: 1 [25600/60000 (43%)]\tLoss: 0.128459\n",
            "Train Epoch: 1 [32000/60000 (53%)]\tLoss: 0.105999\n",
            "Train Epoch: 1 [38400/60000 (64%)]\tLoss: 0.059856\n",
            "Train Epoch: 1 [44800/60000 (75%)]\tLoss: 0.087469\n",
            "Train Epoch: 1 [51200/60000 (85%)]\tLoss: 0.198047\n",
            "Train Epoch: 1 [57600/60000 (96%)]\tLoss: 0.012094\n",
            "\n",
            "Test set: Average loss: 0.0000, Accuracy: 9856/10000 (99%)\n",
            "\n",
            "Train Epoch: 2 [0/60000 (0%)]\tLoss: 0.079127\n",
            "Train Epoch: 2 [6400/60000 (11%)]\tLoss: 0.013837\n",
            "Train Epoch: 2 [12800/60000 (21%)]\tLoss: 0.155971\n",
            "Train Epoch: 2 [19200/60000 (32%)]\tLoss: 0.026608\n",
            "Train Epoch: 2 [25600/60000 (43%)]\tLoss: 0.017832\n",
            "Train Epoch: 2 [32000/60000 (53%)]\tLoss: 0.025762\n",
            "Train Epoch: 2 [38400/60000 (64%)]\tLoss: 0.019373\n",
            "Train Epoch: 2 [44800/60000 (75%)]\tLoss: 0.018458\n",
            "Train Epoch: 2 [51200/60000 (85%)]\tLoss: 0.137485\n",
            "Train Epoch: 2 [57600/60000 (96%)]\tLoss: 0.044131\n",
            "\n",
            "Test set: Average loss: 0.0001, Accuracy: 9812/10000 (98%)\n",
            "\n",
            "Train Epoch: 3 [0/60000 (0%)]\tLoss: 0.168477\n",
            "Train Epoch: 3 [6400/60000 (11%)]\tLoss: 0.023140\n",
            "Train Epoch: 3 [12800/60000 (21%)]\tLoss: 0.041821\n",
            "Train Epoch: 3 [19200/60000 (32%)]\tLoss: 0.001670\n",
            "Train Epoch: 3 [25600/60000 (43%)]\tLoss: 0.021635\n",
            "Train Epoch: 3 [32000/60000 (53%)]\tLoss: 0.005017\n",
            "Train Epoch: 3 [38400/60000 (64%)]\tLoss: 0.018761\n",
            "Train Epoch: 3 [44800/60000 (75%)]\tLoss: 0.017306\n",
            "Train Epoch: 3 [51200/60000 (85%)]\tLoss: 0.028790\n",
            "Train Epoch: 3 [57600/60000 (96%)]\tLoss: 0.006629\n",
            "\n",
            "Test set: Average loss: 0.0000, Accuracy: 9870/10000 (99%)\n",
            "\n"
          ]
        }
      ],
      "source": [
        "#Build an Image Classifier on MNIST\n",
        "#    - Use torchvision.datasets to load MNIST.\n",
        "#    - Define a neural network with nn.Module.\n",
        "#    - Train and evaluate the model’s accuracy.\n",
        "\n",
        "import torch\n",
        "import torch.nn as nn\n",
        "import torch.optim as optim\n",
        "from torchvision import datasets, transforms\n",
        "from torch.utils.data import DataLoader\n",
        "\n",
        "\n",
        "\n",
        "\n",
        "# Define transformations to apply to the data\n",
        "transform = transforms.Compose([\n",
        "    transforms.ToTensor(),\n",
        "    transforms.Normalize((0.1307,), (0.3081,))\n",
        "])\n",
        "\n",
        "# Load the MNIST dataset\n",
        "train_dataset = datasets.MNIST(root='./data', train=True, download=True, transform=transform)\n",
        "test_dataset = datasets.MNIST(root='./data', train=False, download=True, transform=transform)\n",
        "\n",
        "# Create data loaders\n",
        "train_loader = DataLoader(train_dataset, batch_size=64, shuffle=True)\n",
        "test_loader = DataLoader(test_dataset, batch_size=1000, shuffle=False)\n",
        "\n",
        "# Define the neural network model\n",
        "class Net(nn.Module):\n",
        "    def __init__(self):\n",
        "        super(Net, self).__init__()\n",
        "        self.conv1 = nn.Conv2d(1, 32, kernel_size=3, stride=1)\n",
        "        self.conv2 = nn.Conv2d(32, 64, kernel_size=3, stride=1)\n",
        "        self.dropout1 = nn.Dropout(0.25)\n",
        "        self.dropout2 = nn.Dropout(0.5)\n",
        "        self.fc1 = nn.Linear(9216, 128)\n",
        "        self.fc2 = nn.Linear(128, 10)\n",
        "\n",
        "    def forward(self, x):\n",
        "        x = self.conv1(x)\n",
        "        x = nn.functional.relu(x)\n",
        "        x = self.conv2(x)\n",
        "        x = nn.functional.relu(x)\n",
        "        x = nn.functional.max_pool2d(x, 2)\n",
        "        x = self.dropout1(x)\n",
        "        x = torch.flatten(x, 1)\n",
        "        x = self.fc1(x)\n",
        "        x = nn.functional.relu(x)\n",
        "        x = self.dropout2(x)\n",
        "        x = self.fc2(x)\n",
        "        output = nn.functional.log_softmax(x, dim=1)\n",
        "        return output\n",
        "\n",
        "# Initialize the model, loss function, and optimizer\n",
        "model = Net()\n",
        "criterion = nn.CrossEntropyLoss()\n",
        "optimizer = optim.Adadelta(model.parameters(), lr=1.0)\n",
        "\n",
        "# Training function\n",
        "def train(model, device, train_loader, optimizer, epoch):\n",
        "    model.train()\n",
        "    for batch_idx, (data, target) in enumerate(train_loader):\n",
        "        data, target = data.to(device), target.to(device)\n",
        "        optimizer.zero_grad()\n",
        "        output = model(data)\n",
        "        loss = criterion(output, target)\n",
        "        loss.backward()\n",
        "        optimizer.step()\n",
        "        if batch_idx % 100 == 0:\n",
        "            print('Train Epoch: {} [{}/{} ({:.0f}%)]\\tLoss: {:.6f}'.format(\n",
        "                epoch, batch_idx * len(data), len(train_loader.dataset),\n",
        "                100. * batch_idx / len(train_loader), loss.item()))\n",
        "\n",
        "# Evaluation function\n",
        "def test(model, device, test_loader):\n",
        "    model.eval()\n",
        "    test_loss = 0\n",
        "    correct = 0\n",
        "    with torch.no_grad():\n",
        "        for data, target in test_loader:\n",
        "            data, target = data.to(device), target.to(device)\n",
        "            output = model(data)\n",
        "            test_loss += criterion(output, target).item()  # sum up batch loss\n",
        "            pred = output.argmax(dim=1, keepdim=True)  # get the index of the max log-probability\n",
        "            correct += pred.eq(target.view_as(pred)).sum().item()\n",
        "\n",
        "    test_loss /= len(test_loader.dataset)\n",
        "\n",
        "    print('\\nTest set: Average loss: {:.4f}, Accuracy: {}/{} ({:.0f}%)\\n'.format(\n",
        "        test_loss, correct, len(test_loader.dataset),\n",
        "        100. * correct / len(test_loader.dataset)))\n",
        "\n",
        "# Check for GPU\n",
        "device = torch.device(\"cuda\" if torch.cuda.is_available() else \"cpu\")\n",
        "model.to(device)\n",
        "\n",
        "# Train and evaluate the model\n",
        "epochs = 3\n",
        "for epoch in range(1, epochs + 1):\n",
        "    train(model, device, train_loader, optimizer, epoch)\n",
        "    test(model, device, test_loader)"
      ]
    },
    {
      "cell_type": "code",
      "source": [
        "import random\n",
        "torch.save(model.state_dict(), \"mnist_model.pth\")\n",
        "# Now, let's load the model state dictionary into a new instance of the model\n",
        "loaded_model = Net()\n",
        "loaded_model.load_state_dict(torch.load(\"mnist_model.pth\"))\n",
        "loaded_model.to(device)\n",
        "loaded_model.eval() # Set the model to evaluation mode\n",
        "\n",
        "# Example of using the loaded model to make a prediction with a random input\n",
        "# Select a random index from the test dataset\n",
        "random_index = random.randint(0, len(test_dataset) - 1)\n",
        "sample_image, sample_label = test_dataset[random_index]\n",
        "\n",
        "# Add a batch dimension to the image\n",
        "sample_image = sample_image.unsqueeze(0)\n",
        "sample_image = sample_image.to(device)\n",
        "\n",
        "# Make a prediction\n",
        "with torch.no_grad():\n",
        "  output = loaded_model(sample_image)\n",
        "  prediction = output.argmax(dim=1, keepdim=True)\n",
        "\n",
        "print(f\"Original Label: {sample_label}\")\n",
        "print(f\"Predicted Label: {prediction.item()}\")\n",
        "print(\"\\nEvaluating loaded model:\")\n",
        "test(loaded_model, device, test_loader)\n"
      ],
      "metadata": {
        "colab": {
          "base_uri": "https://localhost:8080/"
        },
        "id": "vHK7ftzGRkcT",
        "outputId": "00a1b265-a695-4ec2-9854-cf45ee5ea7c5"
      },
      "execution_count": 32,
      "outputs": [
        {
          "output_type": "stream",
          "name": "stdout",
          "text": [
            "Original Label: 1\n",
            "Predicted Label: 1\n",
            "\n",
            "Evaluating loaded model:\n",
            "\n",
            "Test set: Average loss: 0.0000, Accuracy: 9870/10000 (99%)\n",
            "\n"
          ]
        }
      ]
    },
    {
      "cell_type": "code",
      "source": [],
      "metadata": {
        "id": "WXsdJHD3VG8u"
      },
      "execution_count": 29,
      "outputs": []
    }
  ]
}